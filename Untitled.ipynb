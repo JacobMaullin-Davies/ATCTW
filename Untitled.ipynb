{
 "cells": [
  {
   "cell_type": "markdown",
   "id": "55e8e02a",
   "metadata": {},
   "source": [
    "## Quickhull algorithum "
   ]
  },
  {
   "cell_type": "markdown",
   "id": "97419059",
   "metadata": {},
   "source": [
    "Complexity\n",
    "\n",
    "Worst case time complexity: Θ(N^2) <br></br>\n",
    "Average case time complexity: Θ(N log N) <br></br>\n",
    "Best case time complexity: Θ(N log N) <br></br>\n",
    "Space complexity: Θ(N)"
   ]
  },
  {
   "cell_type": "markdown",
   "id": "a8fa74b1",
   "metadata": {},
   "source": [
    "Making random points on a plot"
   ]
  },
  {
   "cell_type": "code",
   "execution_count": 38,
   "id": "600b7b2b",
   "metadata": {},
   "outputs": [
    {
     "name": "stdout",
     "output_type": "stream",
     "text": [
      "[0.10932915 0.44731971 0.95857458 0.2973214  0.01750093 0.71275011\n",
      " 0.29724361 0.53100755 0.34915008 0.73293501 0.16278629 0.58376458\n",
      " 0.92523529 0.02814801 0.26342375 0.23012053 0.24350267 0.03189743\n",
      " 0.34676622 0.51251617 0.26392114 0.02774412 0.70283067 0.36631921\n",
      " 0.59468525 0.14930169 0.17547707 0.31428437 0.84470392 0.63656478] \n",
      "\n",
      "[0.96950275 0.92341282 0.29447895 0.87119738 0.96243761 0.37226466\n",
      " 0.29319991 0.71163767 0.59674005 0.88340418 0.09757748 0.73791788\n",
      " 0.46460054 0.25233995 0.73160095 0.70959788 0.99434338 0.40898078\n",
      " 0.92740027 0.63420016 0.95792981 0.99847265 0.70407869 0.33480848\n",
      " 0.47549141 0.08829456 0.79302197 0.74765607 0.87319805 0.96632638]\n"
     ]
    },
    {
     "data": {
      "image/png": "[encoded data removed]",
      "text/plain": [
       "<Figure size 432x288 with 1 Axes>"
      ]
     },
     "metadata": {
      "needs_background": "light"
     },
     "output_type": "display_data"
    }
   ],
   "source": [
    "import numpy as np\n",
    "import matplotlib.pyplot as plt\n",
    "\n",
    "x, y = np.random.uniform(size=(2,30))\n",
    "\n",
    "print(x, '\\n')\n",
    "print(y)\n",
    "\n",
    "\n",
    "for i in range(0, len(x)):\n",
    "    plt.plot(x[i],y[i], 'ro')\n",
    "\n",
    "plt.show()"
   ]
  },
  {
   "cell_type": "markdown",
   "id": "655fe960",
   "metadata": {},
   "source": [
    "Connecting two pionts"
   ]
  },
  {
   "cell_type": "code",
   "execution_count": 108,
   "id": "beeecf83",
   "metadata": {},
   "outputs": [
    {
     "name": "stdout",
     "output_type": "stream",
     "text": [
      "[0.10932915247146302, 0.9695027454110173]\n",
      "[0.7127501055909072, 0.37226466008842307]\n"
     ]
    },
    {
     "data": {
      "image/png": "[encoded data removed]",
      "text/plain": [
       "<Figure size 432x288 with 1 Axes>"
      ]
     },
     "metadata": {
      "needs_background": "light"
     },
     "output_type": "display_data"
    }
   ],
   "source": [
    "plt.plot(x,y, 'ro')\n",
    "\n",
    "def connectpoints(p1,p2):\n",
    "    print(p1)\n",
    "    print(p2)\n",
    "    x1, x2 = p1[0], p2[0]\n",
    "    y1, y2 = p1[1], p2[1]\n",
    "\n",
    "    plt.plot([x1,x2], [y1,y2],'k-')\n",
    "    \n",
    "\n",
    "\n",
    "    \n",
    "current_point = [x[0],y[0]]\n",
    "\n",
    "destination_point = [x[5],y[5]]\n",
    "\n",
    "\n",
    "\n",
    "connectpoints(current_point,destination_point)\n",
    "\n",
    "\n",
    "plt.show()"
   ]
  },
  {
   "cell_type": "markdown",
   "id": "bb9772bb",
   "metadata": {},
   "source": [
    "Divide the points into two subsets"
   ]
  },
  {
   "cell_type": "code",
   "execution_count": 113,
   "id": "0b440f4c",
   "metadata": {},
   "outputs": [
    {
     "name": "stdout",
     "output_type": "stream",
     "text": [
      "[0.017500927925058307, 0.9624376080571271]\n",
      "[0.9585745756802132, 0.2944789547998621]\n"
     ]
    },
    {
     "data": {
      "text/plain": [
       "<matplotlib.collections.PolyCollection at 0x27b0d5a0ca0>"
      ]
     },
     "execution_count": 113,
     "metadata": {},
     "output_type": "execute_result"
    },
    {
     "data": {
      "image/png": "[encoded data removed]",
      "text/plain": [
       "<Figure size 432x288 with 1 Axes>"
      ]
     },
     "metadata": {
      "needs_background": "light"
     },
     "output_type": "display_data"
    }
   ],
   "source": [
    "plt.plot(x,y, 'ro')\n",
    "\n",
    "def sort(x,y):\n",
    "    array = []\n",
    "    for i in range(0, len(x)):\n",
    "        temp = []\n",
    "        temp.append(x[i])\n",
    "        temp.append(y[i])\n",
    "        array.append(temp)\n",
    "    return array\n",
    "    \n",
    "\n",
    "\n",
    "def distance_points(points):\n",
    "    left_p = [1,1]\n",
    "    right_p = [0,0]\n",
    "    for p in points:\n",
    "        if p[0] < left_p[0]:\n",
    "            left_p = p\n",
    "            \n",
    "        if p[0] > right_p[0]:\n",
    "            right_p = p\n",
    "        \n",
    "    return left_p, right_p\n",
    "        \n",
    "        \n",
    "    \n",
    "\n",
    "points = sort(x,y)\n",
    "\n",
    "\n",
    "leftM_point, rightM_p = distance_points(points)\n",
    "\n",
    "connectpoints(leftM_point, rightM_p)\n",
    "\n",
    "plt.fill_between(leftM_point, rightM_p)\n",
    "\n",
    "    "
   ]
  },
  {
   "cell_type": "markdown",
   "id": "2b3925ea",
   "metadata": {},
   "source": [
    "We have the leftmost and right most pionts, and we can split each half into two subsets: above and below the line.\n",
    "Now we find the outer points to connect to \n",
    "    "
   ]
  },
  {
   "cell_type": "code",
   "execution_count": null,
   "id": "a600b654",
   "metadata": {},
   "outputs": [],
   "source": []
  }
 ],
 "metadata": {
  "kernelspec": {
   "display_name": "Python 3",
   "language": "python",
   "name": "python3"
  },
  "language_info": {
   "codemirror_mode": {
    "name": "ipython",
    "version": 3
   },
   "file_extension": ".py",
   "mimetype": "text/x-python",
   "name": "python",
   "nbconvert_exporter": "python",
   "pygments_lexer": "ipython3",
   "version": "3.8.8"
  }
 },
 "nbformat": 4,
 "nbformat_minor": 5
}
